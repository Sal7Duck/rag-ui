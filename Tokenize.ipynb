{
  "cells": [
    {
      "cell_type": "markdown",
      "metadata": {
        "id": "view-in-github",
        "colab_type": "text"
      },
      "source": [
        "<a href=\"https://colab.research.google.com/github/Sal7Duck/rag-ui/blob/code-cleaning/Tokenize.ipynb\" target=\"_parent\"><img src=\"https://colab.research.google.com/assets/colab-badge.svg\" alt=\"Open In Colab\"/></a>"
      ]
    },
    {
      "cell_type": "code",
      "execution_count": null,
      "id": "703bb7c4-758a-4086-aebc-5c4f6e1ce44c",
      "metadata": {
        "id": "703bb7c4-758a-4086-aebc-5c4f6e1ce44c"
      },
      "outputs": [],
      "source": [
        "import tiktoken\n",
        "import pickle\n",
        "import numpy as np\n",
        "from tqdm.auto import tqdm"
      ]
    },
    {
      "cell_type": "code",
      "execution_count": null,
      "id": "6d6a6e1d-9dd2-42c2-a8b4-456e5f19afe6",
      "metadata": {
        "id": "6d6a6e1d-9dd2-42c2-a8b4-456e5f19afe6"
      },
      "outputs": [],
      "source": [
        "data_dir = \"/Users/saloni/Desktop/rag-ui/utilities/final_cleaned_output_text.pkl\"\n",
        "tokenized_text_from_all_dirs = '/Users/saloni/Desktop/rag-ui/utilities/final_tokenized_output_text.pkl'"
      ]
    },
    {
      "cell_type": "code",
      "execution_count": null,
      "id": "a8852da6-5dde-4c15-ac72-21404ec0fe54",
      "metadata": {
        "id": "a8852da6-5dde-4c15-ac72-21404ec0fe54"
      },
      "outputs": [],
      "source": [
        "tokenizer = tiktoken.get_encoding('cl100k_base')"
      ]
    },
    {
      "cell_type": "code",
      "execution_count": null,
      "id": "e8c72f2d-20dd-45a9-aeca-0c2612b89e68",
      "metadata": {
        "id": "e8c72f2d-20dd-45a9-aeca-0c2612b89e68"
      },
      "outputs": [],
      "source": [
        "#length function\n",
        "def tiktoken_len(text) :\n",
        "    tokens = tokenizer.encode (\n",
        "        text,\n",
        "        disallowed_special = ()\n",
        "    )\n",
        "    return len(tokens)"
      ]
    },
    {
      "cell_type": "code",
      "execution_count": null,
      "id": "98790c1f-43d3-4a34-9495-2e399210fbb0",
      "metadata": {
        "id": "98790c1f-43d3-4a34-9495-2e399210fbb0"
      },
      "outputs": [],
      "source": [
        "with open(data_dir, 'rb') as f:\n",
        "    all_files = pickle.load(f)"
      ]
    },
    {
      "cell_type": "code",
      "execution_count": null,
      "id": "e1611514-809c-4a2d-9156-8af4ed79a889",
      "metadata": {
        "id": "e1611514-809c-4a2d-9156-8af4ed79a889"
      },
      "outputs": [],
      "source": [
        "# Check to see if any file is returning a null object\n",
        "for key in all_files.keys():\n",
        "    if key[0:5] not in ['notif', 'rbi_n']:\n",
        "        print(key)"
      ]
    },
    {
      "cell_type": "code",
      "execution_count": null,
      "id": "c1b9e70e-e127-4b2c-a43c-59d8824b2929",
      "metadata": {
        "id": "c1b9e70e-e127-4b2c-a43c-59d8824b2929",
        "outputId": "94b94aaa-4a90-4b75-84c2-0c7da2c0c930"
      },
      "outputs": [
        {
          "name": "stdout",
          "output_type": "stream",
          "text": [
            "Total no. of files:  33760\n",
            "Min: 0\n",
            "Avg: 3167\n",
            "Max: 197916\n"
          ]
        }
      ],
      "source": [
        "# Run it over all the files in the pickle file\n",
        "with open(data_dir, 'rb') as f:\n",
        "    all_files = pickle.load(f)\n",
        "\n",
        "counter = 0\n",
        "max_tokens = 180000\n",
        "max_tokens_file = \"\"\n",
        "\n",
        "token_counts = []\n",
        "for key, text in all_files.items() :\n",
        "    counter += 1\n",
        "    file_token_len = tiktoken_len(text.strip())\n",
        "    if file_token_len > max_tokens :\n",
        "        max_tokens_file = key\n",
        "    token_counts.append(file_token_len)\n",
        "\n",
        "print(\"Total no. of files: \", counter)\n",
        "\n",
        "# token_counts = []\n",
        "# for key, text in all_files.items():\n",
        "#     print(key)\n",
        "#     print(text[0:5])\n",
        "#     print(\"-----\")\n",
        "#     token_counts.append(tiktoken_len(text.strip()))\n",
        "\n",
        "print(f\"\"\"Min: {min(token_counts)}\n",
        "Avg: {int(sum(token_counts) / len(token_counts))}\n",
        "Max: {max(token_counts)}\"\"\")"
      ]
    },
    {
      "cell_type": "code",
      "execution_count": null,
      "id": "75073ec0-f6df-489a-9267-14517d4fb1e3",
      "metadata": {
        "id": "75073ec0-f6df-489a-9267-14517d4fb1e3",
        "outputId": "ba9d39ab-2b49-4492-868f-d32781890a53"
      },
      "outputs": [
        {
          "data": {
            "text/plain": [
              "'notifications_not_in_toc_114BI010714LA'"
            ]
          },
          "execution_count": 32,
          "metadata": {},
          "output_type": "execute_result"
        }
      ],
      "source": [
        "max_tokens_file"
      ]
    },
    {
      "cell_type": "code",
      "execution_count": null,
      "id": "d720ff04-0976-4c2d-b094-bab949e12f25",
      "metadata": {
        "id": "d720ff04-0976-4c2d-b094-bab949e12f25"
      },
      "outputs": [],
      "source": [
        "# all_files['notifications_not_in_toc_114BI010714LA']"
      ]
    },
    {
      "cell_type": "markdown",
      "id": "74020b37-11b8-49b8-a2c8-e7bca8bd07e0",
      "metadata": {
        "id": "74020b37-11b8-49b8-a2c8-e7bca8bd07e0"
      },
      "source": [
        "Total no. of files:  33760\n",
        "Min: 0\n",
        "Avg: 3171\n",
        "Max: 197916"
      ]
    },
    {
      "cell_type": "code",
      "execution_count": null,
      "id": "32fee2a5-64cc-48b0-b51a-b5c000926bf0",
      "metadata": {
        "id": "32fee2a5-64cc-48b0-b51a-b5c000926bf0",
        "outputId": "786577b6-ab88-48df-9513-b9f54b9bf1ea"
      },
      "outputs": [
        {
          "data": {
            "image/png": "[encoded data removed]",
            "text/plain": [
              "<Figure size 1200x600 with 1 Axes>"
            ]
          },
          "metadata": {},
          "output_type": "display_data"
        }
      ],
      "source": [
        "# visualize distribution of tokens across files\n",
        "import matplotlib.pyplot as plt\n",
        "import seaborn as sns\n",
        "\n",
        "# set style and color palette for the plot\n",
        "sns.set_style(\"whitegrid\")\n",
        "sns.set_palette(\"muted\")\n",
        "\n",
        "# create histogram\n",
        "plt.figure(figsize=(12, 6))\n",
        "sns.histplot(token_counts, kde=False, bins=50)\n",
        "\n",
        "# customize the plot info\n",
        "plt.title(\"Token Counts Histogram\")\n",
        "plt.xlabel(\"Token Count\")\n",
        "plt.ylabel(\"Frequency\")\n",
        "# plt.xlim([0, 50000])\n",
        "\n",
        "plt.show()"
      ]
    },
    {
      "cell_type": "code",
      "execution_count": null,
      "id": "00b287d9-ca36-4437-8666-beac631b6cc6",
      "metadata": {
        "id": "00b287d9-ca36-4437-8666-beac631b6cc6",
        "outputId": "181ce500-0744-4822-ed43-9b19c8ee7739"
      },
      "outputs": [
        {
          "data": {
            "text/plain": [
              "(1203.0, 882.0, 1994.0)"
            ]
          },
          "execution_count": 35,
          "metadata": {},
          "output_type": "execute_result"
        }
      ],
      "source": [
        "token_counts = np.array(token_counts)\n",
        "np.median(token_counts[token_counts!=0]), np.quantile(token_counts[token_counts!=0], 0.25), np.quantile(token_counts[token_counts!=0], 0.75)"
      ]
    },
    {
      "cell_type": "markdown",
      "id": "0c18b4ce-f235-4c0d-8138-249b70053c28",
      "metadata": {
        "id": "0c18b4ce-f235-4c0d-8138-249b70053c28"
      },
      "source": [
        "CHANGE THIS!!\n",
        "<!-- 25th percentile : 1367\n",
        "50th percentile : 1725\n",
        "75th percentile : 2446\n",
        "\n",
        "Decision on token size for chunk :\n",
        "Token limit for GPT-3.5-turbo is 4096 (includes input to LLM and the generated output tokens too)\n",
        "To set context, 4 nearest chunks will be chosen, 2000/4 = 500\n",
        "According to median, 1725/500 = around 3.5 (I don't want too much document chunking)\n",
        "Hence, going for chunk size = 500, overlap = 30 for the Recursive Text Splitter -->"
      ]
    },
    {
      "cell_type": "code",
      "execution_count": null,
      "id": "5b6b6159-6385-4ff0-8510-71d8c7d3daf3",
      "metadata": {
        "id": "5b6b6159-6385-4ff0-8510-71d8c7d3daf3"
      },
      "outputs": [],
      "source": [
        "from langchain.text_splitter import RecursiveCharacterTextSplitter\n",
        "\n",
        "text_splitter = RecursiveCharacterTextSplitter (\n",
        "    chunk_size = 500,\n",
        "    chunk_overlap = 30,\n",
        "    length_function = tiktoken_len,\n",
        "    separators = ['\\n\\n', '\\n', '\\t\\t\\t\\t\\t','\\t\\t\\t\\t','\\t\\t\\t', '\\t\\t', '\\t', ' ', '']\n",
        ")"
      ]
    },
    {
      "cell_type": "code",
      "execution_count": null,
      "id": "70f79045-655a-48cd-a843-36e7b21ff4a9",
      "metadata": {
        "id": "70f79045-655a-48cd-a843-36e7b21ff4a9",
        "outputId": "e657b763-c725-46d5-e217-7b4c6ad3e3f1"
      },
      "outputs": [
        {
          "data": {
            "text/plain": [
              "14"
            ]
          },
          "execution_count": 37,
          "metadata": {},
          "output_type": "execute_result"
        }
      ],
      "source": [
        "file_name = \"rbi_notification_2023_1991_2021\"\n",
        "chunks = text_splitter.split_text(all_files[file_name])\n",
        "len(chunks)"
      ]
    },
    {
      "cell_type": "code",
      "execution_count": null,
      "id": "d99efe89-2dde-4492-b604-d1bd96585378",
      "metadata": {
        "id": "d99efe89-2dde-4492-b604-d1bd96585378"
      },
      "outputs": [],
      "source": [
        "# chunks"
      ]
    },
    {
      "cell_type": "code",
      "execution_count": null,
      "id": "4feb86d4-1b93-4a62-bf6f-28b18827f646",
      "metadata": {
        "id": "4feb86d4-1b93-4a62-bf6f-28b18827f646",
        "outputId": "e2becfd9-8a39-40bc-a187-bb3cb84693cd"
      },
      "outputs": [
        {
          "name": "stdout",
          "output_type": "stream",
          "text": [
            "214\n",
            "499\n",
            "500\n",
            "500\n",
            "500\n",
            "500\n",
            "500\n",
            "499\n",
            "501\n",
            "500\n",
            "499\n",
            "499\n",
            "365\n",
            "367\n"
          ]
        }
      ],
      "source": [
        "for chunk in chunks :\n",
        "    print(tiktoken_len(chunk))"
      ]
    },
    {
      "cell_type": "code",
      "execution_count": null,
      "id": "1f316781-304a-4243-8fac-3c86a2a703f0",
      "metadata": {
        "id": "1f316781-304a-4243-8fac-3c86a2a703f0",
        "outputId": "1a28b660-efc2-4ebd-f6d1-e117136c105f"
      },
      "outputs": [
        {
          "data": {
            "text/plain": [
              "[{'id': 'rbi_notification_2023_1991_2021-0',\n",
              "  'text': 'Skip to main content\\n\\n\\n\\nHome\\n\\nAbout Us\\n\\nNotifications\\n\\nPress Releases\\n\\nSpeeches  Media Interactions\\n                \\n                  Speeches\\n                  Media Interactions\\n                  Memorial Lectures\\n\\nPublications \\n                \\n                  Annual\\n                  Half-Yearly\\n                  Quarterly\\n\\t          Bi-monthly\\n                  Monthly\\n                  Weekly\\n                  Occasional\\n                   Reports\\n\\t            Working Papers\\n\\nLegal Framework \\n                \\n                  Act \\n                   Rules \\n                    Regulations  \\n                    Schemes\\n\\nResearch \\n\\t        \\n                External Research Schemes\\n                RBI Occasional Papers\\n                Working Papers\\n                RBI Bulletin\\n\\t            History\\n                DRG Studies\\n                KLEMS\\n\\t        State Statistics and Finances\\n\\nStatistics \\n                \\n                  Data Releases\\n                  Database on Indian Economy\\n                  Public Debt Statistics\\n\\nRegulatory Reporting\\n\\t \\n\\tList of Returns\\n\\t\\n                    Data Definition\\n                        \\n                    \\n\\n\\tValidation rules Taxonomy\\n\\tList of RBI Reporting Portals\\n\\tFAQs of RBI Reporting Portals\\n\\nHome\\n\\nNotifications\\n\\nNotifications\\n\\nMaster Directions\\n\\nMaster Circulars\\n\\nDraft Notifications Guidelines\\n\\nIndex to RBI Circulars\\n\\nNotifications'},\n",
              " {'id': 'rbi_notification_2023_1991_2021-1',\n",
              "  'text': \"Dec 30, 2021 Periodic Updation of KYC  Restrictions on Account Operations for Non-compliance 299 kb Dec 24, 2021 Amendment to General Notification for sale of Government of India Treasury BillsCash Management Bills by Auction 152 kb Dec 23, 2021 Restriction on storage of actual card data i.e. Card-on-File (CoF) 359 kb Exim Bank Government of India supported Line of Credit (LoC) of USD 40 million to the Government of the Togolese Republic 198 kb Dec 15, 2021 Government Agency Business Arrangement  Appointment of Scheduled Private Sector Banks as Agency Banks of Reserve Bank of India (RBI) 251 kb Dec 14, 2021 Prompt Corrective Action (PCA) Framework for Non-Banking Financial Companies (NBFCs) 369 kb Dec 10, 2021 Section 24 of the Banking Regulation Act, 1949  Maintenance of Statutory Liquidity Ratio (SLR)  Marginal Standing Facility (MSF) - return to the normal dispensation 253 kb Introduction of Legal Entity Identifier for Cross-border Transactions 205 kb Dec 08, 2021 General permission for infusion of capital in overseas branches and subsidiaries and retention repatriation transfer of profits in these centres by banks incorporated in India 324 kb External Commercial Borrowings (ECB) and Trade Credits (TC) Policy  Changes due to LIBOR transition 208 kb Nov 26, 2021 Implementation of Section 51A of UAPA, 1967: Updates to UNSCs 1267 1989 ISIL (Da'esh)  Al-Qaida Sanctions List: Addition of one entry 374 kb Nov 22, 2021 Inclusion inexclusion from the Second Schedule to the Reserve Bank of India Act, 1934 - Regional Rural Banks (RRBs) 285 kb Nov 16, 2021 Regulations Review Authority (RRA 2.0)  Interim Recommendations  Withdrawal of Redundant Circulars 238 kb Withdrawal of Obsolete Regulatory Circulars Instructions - Interim Recommendations of the Regulations Review Authority 2.0 198 kb Regulations Review Authority (RRA 2.0)  Interim Recommendations  Withdrawal of Circular 250 kb Regulations Review Authority (RRA 2.0)  Interim Recommendations  Withdrawal of Circulars 180 kb Regulations Review\"},\n",
              " {'id': 'rbi_notification_2023_1991_2021-2',\n",
              "  'text': \"Circular 250 kb Regulations Review Authority (RRA 2.0)  Interim Recommendations  Withdrawal of Circulars 180 kb Regulations Review Authority (RRA) 2.0  Interim Recommendations  Withdrawal of Redundant Circulars 198 kb Withdrawal of Obsolete Regulatory Circulars  Instructions  Interim Recommendations of the Regulations Review Authority 2.0 454 kb Nov 15, 2021 Appointment of Internal Ombudsman by Non-Banking Financial Companies 214 kb Nov 12, 2021 Prudential norms on Income Recognition, Asset Classification and Provisioning pertaining to Advances - Clarifications 274 kb Auction of Government Securities: Non-Competitive Bidding Facility to retail investors 391 kb Reserve Bank - Integrated Ombudsman Scheme, 2021 110 kb Nov 11, 2021 Foreign Currency (Non-resident) Accounts (Banks) Scheme FCNR(B) - Master Direction on Interest Rate on Deposits 214 kb Exim Bank's Government of India supported Line of Credit (LoC) of  USD 10.40 million to the Government of the Kingdom of Eswatini (Swaziland) 254 kb Nov 09, 2021 Master Circular - Guarantees and Co-acceptances 490 kb Nov 08, 2021 Investment by Foreign Portfolio Investors (FPIs) in Debt  Review 302 kb Nov 02, 2021 Master Circular- Guarantees, Co-Acceptances  Letters of Credit - UCBs 283 kb Prompt Corrective Action (PCA) Framework for Scheduled Commercial Banks 321 kb Nov 01, 2021 Master Circular- Income Recognition, Asset Classification, Provisioning and Other Related Matters - UCBs 533 kb Oct 29, 2021 Opening of Current Accounts by Banks - Need for Discipline 231 kb Oct 28, 2021 Gold Monetization Scheme (GMS), 2015 338 kb Oct 26, 2021 Master Direction  Prudential Norms on Capital Adequacy for Local Area Banks (Directions), 2021 (Updated as on August 11, 2022) 1506 kb Oct 22, 2021 Sovereign Gold Bond Scheme of the Government of India (GoI) - Procedural Guidelines - Consolidated (Updated as on October 04, 2022) 296 kb Sovereign Gold Bond\"},\n",
              " {'id': 'rbi_notification_2023_1991_2021-3',\n",
              "  'text': \"- Procedural Guidelines - Consolidated (Updated as on October 04, 2022) 296 kb Sovereign Gold Bond Scheme (SGB) 2021-22 - Series VIIVIIIIXX 236 kb Scale Based Regulation (SBR): A Revised Regulatory Framework for NBFCs 539 kb Oct 14, 2021 Data Format for Furnishing of Credit Information to Credit Information Companies 252 kb Oct 08, 2021 Priority Sector Lending- Banks lending to NBFCs for on-lending  Extension of facility 294 kb Oct 07, 2021 Inclusion of Paytm Payments Bank Limited in the Second Schedule of the Reserve Bank of India Act, 1934 297 kb Oct 05, 2021 Value Free Transfer (VFT) of Government Securities  Guidelines 95 kb Revised Subsidiary General Ledger (SGL) Account Guidelines and Constituents' Subsidiary General Ledger (CSGL) Account Guidelines 104 kb Oct 04, 2021 Basel III Capital Regulations - Perpetual Debt Instruments (PDI) in Additional Tier 1 Capital  Eligible Limit for Instruments Denominated in Foreign CurrencyRupee Denominated Bonds Overseas 371 kb Enhancement in family pension of employees of banks -  Treatment of additional liability 284 kb Oct 01, 2021 Master Circular - Prudential norms on Income Recognition, Asset Classification and Provisioning pertaining to Advances 1062 kb Sep 30, 2021 Exim Bank's Government of India supported Line of Credit (LoC) of  USD 100 million to the Government of Democratic Socialist Republic of Sri Lanka 99 kb Exim Bank's Government of India supported Line of Credit (LoC) of  USD 15 million to the Government of the Republic of Sierra Leone 99 kb Sep 28, 2021 Use of any Alternative reference rate in place of LIBOR for interest payable in respect of export  import transactions 126 kb Sep 24, 2021 Master Direction  Reserve Bank of India (Transfer of Loan Exposures) Directions, 2021 (Updated as on December 05, 2022) 851 kb Master Direction  Reserve Bank of India (Securitisation of Standard Assets) Directions, 2021 (Updated as on December 05, 2022) 740 kb Sep 20, 2021 Master Circular on Investments by Primary (Urban) Co-operative\"},\n",
              " {'id': 'rbi_notification_2023_1991_2021-4',\n",
              "  'text': \"on December 05, 2022) 740 kb Sep 20, 2021 Master Circular on Investments by Primary (Urban) Co-operative Banks 636 kb Sep 16, 2021 Master Direction  Reserve Bank of India (Market-makers in OTC Derivatives) Directions, 2021 256 kb Sep 13, 2021 Implementation of Section 51A of UAPA, 1967: Updates to UNSCs 1267 1989 ISIL (Da'esh)  Al-Qaida Sanctions List: Deletion of one entry 303 kb Application for Aadhaar e-KYC Authentication Licence 327 kb Sep 09, 2021 Large Exposures Framework  Credit Risk Mitigation (CRM) for offsetting  non-centrally cleared derivative transactions of foreign bank branches in India with their Head Office 292 kb Sep 08, 2021 Foreign Exchange Management (Export of Goods and Services) (Amendment) Regulations, 2021 92 kb Sep 07, 2021 Tokenisation  Card Transactions: Permitting Card-on-File Tokenisation (CoFT) Services 329 kb Aug 30, 2021 Master Direction on Financial Statements - Presentation and Disclosures (Updated as on February 20,  2023) 1934 kb Guidelines on Compensation of Whole Time Directors Chief Executive Officers Material Risk Takers and Control Function staff - Clarification 229 kb Aug 27, 2021 Master Directions on Prepaid Payment Instruments (PPIs) (Updated as on February 10, 2023) 980 kb Enhancements to Indo-Nepal Remittance Facility Scheme 318 kb Review of incentive and other measures to enhance distribution of coins 150 kb Aug 25, 2021 Master Direction - Classification, Valuation and Operation of Investment Portfolio of Commercial Banks (Directions), 2021 (Updated  as on December 8, 2022) 1219 kb Tokenisation  Card Transactions : Extending the Scope of Permitted Devices 280 kb Notification as Financial Institution under Section 2(1)(m)(iv) of Securitisation and Reconstruction of Financial Assets and Enforcement of Security Interest Act, 2002 (SARFAESI Act) 266 kb Aug 24, 2021 Formation of new district in the State of Punjab  Assignment of Lead Bank Responsibility 348 kb Aug 19, 2021 Exim Bank's Government of India\"},\n",
              " {'id': 'rbi_notification_2023_1991_2021-5',\n",
              "  'text': \"new district in the State of Punjab  Assignment of Lead Bank Responsibility 348 kb Aug 19, 2021 Exim Bank's Government of India supported Line of Credit (LoC) of USD 20.51 million to the Government of the Republic of Guinea 100 kb Exim Bank's Government of India supported Line of Credit (LoC) of  USD 170 million to the Government of the Republic of Guinea 99 kb Exim Bank's Government of India supported Line of Credit (LoC) of USD 20.22 million to the Government of the Republic of Guinea 100 kb Aug 18, 2021 Safe Deposit LockerSafe Custody Article Facility provided by the banks - Revised Instructions 300 kb Aug 12, 2021 Exim Bank's Government of India supported Line of Credit (LoC) of USD 100 million to the Government of the Republic of Mauritius 153 kb Aug 10, 2021 Monitoring of Availability of Cash in ATMs 264 kb Aug 09, 2021 Enhancement of collateral free loans to Self Help Groups (SHGs) under DAY-NRLM from 10 lakh to 20 Lakh 197 kb Section 24 of the Banking Regulation Act, 1949  Maintenance of Statutory Liquidity Ratio (SLR)  Marginal Standing Facility (MSF) - Extension of Relaxation 309 kb Aug 06, 2021 Prudential Norms for Off-Balance Sheet Exposures of Banks  Restructuring of derivative contracts 284 kb Resolution Framework for COVID-19-related Stress  Financial Parameters  Revised timelines for compliance 337 kb Export Credit in Foreign Currency  Benchmark Rate 245 kb Aug 05, 2021 Exim Bank's Government of India supported Line of Credit (LoC) of USD 30.00 million to the Government of the Republic of Sierra Leone 104 kb Aug 04, 2021 Guidelines for Implementation of the circular on Opening of Current Accounts by Banks 335 kb Aug 03, 2021 Framework for Outsourcing of Payment and Settlement-related Activities by Payment System Operators 379 kb Aug 02, 2021 Maintenance of State Government Accounts  Recovery of Interest on Excess put through Double claim (State Government Transactions) 319 kb Jul 29, 2021 Rating of Deposits of HFCs  Approved Credit Rating Agencies and Minimum Investment Grade Credit Rating 247 kb Jul 28, 2021 Access for\"},\n",
              " {'id': 'rbi_notification_2023_1991_2021-6',\n",
              "  'text': \"of Deposits of HFCs  Approved Credit Rating Agencies and Minimum Investment Grade Credit Rating 247 kb Jul 28, 2021 Access for Non-banks to Centralised Payment Systems 551 kb Jul 23, 2021 Loans and Advances  Regulatory Restrictions 304 kb Jul 20, 2021 Master Direction - Reserve Bank of India Cash Reserve Ratio (CRR) and Statutory Liquidity Ratio (SLR) Directions - 2021 ( Updated as on September 25, 2023 ) 1638 kb Jul 14, 2021 Cassette - Swaps in ATMs 306 kb Jul 09, 2021 Mandatory Leave for Employees Posted in Sensitive Positions or Areas of Operation 337 kb Jul 08, 2021 Roadmap for LIBOR Transition 280 kb Inclusion of Shivalik Small Finance Bank Limited in the Second Schedule of the Reserve Bank of India Act, 1934 283 kb Jul 07, 2021 New Definition of Micro, Small and Medium Enterprises - Addition of Retail and Wholesale Trade 335 kb Jul 02, 2021 Review of Instructions on Interest on overdue domestic deposits 108 kb Jul 01, 2021 Interest Equalization Scheme on Pre and Post Shipment Rupee Export Credit - Extension 204 kb Jun 28, 2021 Guidelines for Managing Risk in Outsourcing of Financial Services by Co-operative Banks 418 kb Jun 25, 2021 New Definition of Micro, Small and Medium Enterprises 361 kb Appointment of Chief Risk Officer in Primary (Urban) Co-operative Banks 246 kb Reserve Bank of India (Call, Notice and Term Money Markets) Directions, 2021 281 kb Appointment of Managing Director (MD)  Whole-Time Director (WTD) in Primary (Urban) Co-operative Banks 567 kb Jun 24, 2021 Declaration of dividends by NBFCs 403 kb Jun 23, 2021 Gold (Metal) Loans  Repayment 195 kb Jun 18, 2021 Implementation of Section 51A of UAPA, 1967: Updates to UNSCs 1267 1989 ISIL (Da'esh)  Al-Qaida Sanctions List: Amendment of one entry 323 kb Jun 17, 2021 Liberalised Remittance Scheme for Resident Individuals  Reporting 96 kb Jun 14, 2021 Investment in Entities from FATF Non-compliant Jurisdictions 251 kb\"},\n",
              " {'id': 'rbi_notification_2023_1991_2021-7',\n",
              "  'text': 'for Resident Individuals  Reporting 96 kb Jun 14, 2021 Investment in Entities from FATF Non-compliant Jurisdictions 251 kb Bharat Bill Payment System  Addition of Biller Category 267 kb Jun 11, 2021 Risk Based Internal Audit (RBIA) 328 kb Jun 10, 2021 Usage of Automated Teller Machines  Cash Recycler Machines  Review of Interchange Fee and Customer Charges 319 kb Jun 08, 2021 Preservation of CCTV recordings 227 kb Jun 07, 2021 Transactions in Government securities by Foreign Portfolio Investors: Reporting 294 kb Jun 04, 2021 Master Direction  Reserve Bank of India (Certificate of Deposit) Directions, 2021 268 kb Submission of returns under Section 31 of the Banking Regulation Act, 1949 (AACS)  Extension of time 191 kb Payment of margins for transactions in Government Securities by Foreign Portfolio Investors 242 kb Resolution Framework - 2.0: Resolution of Covid-19 related stress of Micro, Small and Medium Enterprises (MSMEs)  Revision in the threshold for aggregate exposure 127 kb Resolution Framework - 2.0: Resolution of Covid-19 related stress of Individuals and Small Businesses  Revision in the threshold for aggregate exposure 145 kb May 31, 2021 Customer Due Diligence for transactions in Virtual Currencies (VC) 191 kb Investment by Foreign Portfolio Investors (FPI) in Government Securities: Medium Term Framework (MTF) 281 kb May 27, 2021 Formation of new district in the State of Karnataka - Assignment of Lead Bank Responsibility 329 kb May 24, 2021 Amalgamation of District Central Co-operative Banks (DCCBs) with the State Co-operative Bank (StCB) - Guidelines 146 kb May 21, 2021 Relaxation in timeline for compliance with various payment system requirements 300 kb May 19, 2021 Prepaid Payment Instruments (PPIs)  (i) Mandating Interoperability; (ii) Increasing the Limit to 2 lakh for Full-KYC PPIs; and (iii) Permitting Cash Withdrawal from Full-KYC PPIs of Non-Bank PPI Issuers 303 kb May 14, 2021 Sovereign Gold Bond Scheme (SGB) 2021-22- Series IIIIIIIVVVI 93 kb May 12,'},\n",
              " {'id': 'rbi_notification_2023_1991_2021-8',\n",
              "  'text': \"Sovereign Gold Bond Scheme (SGB) 2021-22- Series IIIIIIIVVVI 93 kb May 12, 2021 Sponsor Contribution to an AIF set up in Overseas Jurisdiction, including IFSCs 145 kb May 11, 2021 Banking Regulation Act, 1949  Section 26A Depositor Education and Awareness Fund Scheme, 2014  Interest rates payable on unclaimed interest bearing deposit 135 kb May 10, 2021 Government Agency Business Arrangement  Appointment of Scheduled Private Sector Banks as Agency Banks of Reserve Bank of India (RBI) 266 kb Amendment to the Master Direction (MD) on KYC 534 kb May 06, 2021 Exim Bank's Government of India supported Line of Credit (LoC) of  USD 7.35 million to the Government of the Republic of Nicaragua 208 kb Exclusion of Lakshmi Vilas Bank Ltd from the Second Schedule to the Reserve Bank of India Act, 1934 304 kb May 05, 2021 Resolution Framework 2.0  Resolution of Covid-19 related stress of Micro, Small and Medium Enterprises (MSMEs) 260 kb Resolution Framework  2.0: Resolution of Covid-19 related stress of Individuals and Small Businesses 385 kb Credit to MSME Entrepreneurs 220 kb Periodic Updation of KYC  Restrictions on Account Operations for Non-compliance 333 kb Utilisation of Floating ProvisionsCounter Cyclical Provisioning Buffer 228 kb Priority Sector Lending (PSL) - On-lending by Small Finance Banks (SFBs) to NBFC-MFIs 252 kb Apr 29, 2021 Exim Bank's Government of India supported Line of Credit (LoC) of USD 250 million to the Government of the Republic of Mozambique 204 kb Apr 27, 2021 Guidelines for Appointment of Statutory Central Auditors (SCAs)Statutory Auditors (SAs) of Commercial Banks (excluding RRBs), UCBs and NBFCs (including HFCs) 398 kb Apr 26, 2021 Corporate Governance in Banks - Appointment of Directors and Constitution of Committees of the Board 381 kb Apr 22, 2021 Declaration of dividends by banks 318 kb Apr 20, 2021 Formation of new district in the State of Tamil Nadu  Assignment of Lead Bank\"},\n",
              " {'id': 'rbi_notification_2023_1991_2021-9',\n",
              "  'text': \"Declaration of dividends by banks 318 kb Apr 20, 2021 Formation of new district in the State of Tamil Nadu  Assignment of Lead Bank Responsibility 357 kb Apr 12, 2021 Interest Equalization Scheme on Pre and Post Shipment Rupee Export Credit- Extension 214 kb Apr 08, 2021 Enhancement of limit of maximum balance per customer at end of the day from 1 lakh to 2 lakh  Payments Banks (PBs) 316 kb Implementation of Section 51A of UAPA, 1967 and Security Council Resolution: Updates to UNSCs 1267 1989 ISIL (Da'esh)  Al-Qaida Sanctions List  Democratic Peoples Republic of Korea (DPRK)Order, 2017 327 kb Apr 07, 2021 Reporting and Accounting of Central Government transactions of March 2021  Change of date of closure 236 kb Asset Classification and Income Recognition following the expiry of Covid-19 regulatory package 206 kb External Commercial Borrowings (ECB) Policy  Relaxation in the period of parking of unutilised ECB proceeds in term deposits 302 kb Priority Sector Lending (PSL) - Lending by banks to NBFCs for On-Lending 251 kb Priority Sector Lending (PSL)  Increase in limits for bank lending against Negotiable Warehouse Receipts (NWRs)  electronic Negotiable Warehouse Receipts (eNWRs) 307 kb Apr 05, 2021 Gold Monetization Scheme (GMS), 2015 302 kb Deendayal Antyodaya Yojana  National Urban Livelihoods Mission (DAY-NULM) 620 kb Master Circular - Credit facilities to Scheduled Castes (SCs)  Scheduled Tribes (STs) 319 kb Apr 01, 2021 Master Circular  Lead Bank Scheme 1087 kb Master Circular on SHG-Bank Linkage Programme 201 kb Master Circular  Deendayal Antyodaya Yojana - National Rural Livelihoods Mission (DAY-NRLM) 701 kb Master Direction - Reserve Bank of India (Call, Notice and Term Money Markets) Directions, 2021 (Updated as on June 08, 2023) 250 kb Amendment to Master Direction (MD) on KYC  KYC norms for Self Help Groups (SHGs) 319 kb Master Circular - Disbursement of Government Pension\"},\n",
              " {'id': 'rbi_notification_2023_1991_2021-10',\n",
              "  'text': \"Direction (MD) on KYC  KYC norms for Self Help Groups (SHGs) 319 kb Master Circular - Disbursement of Government Pension by Agency Banks (Updated as on May 17, 2021) 273 kb Master Circular on Conduct of Government Business by Agency Banks - Payment of Agency Commission 517 kb Master Circular - Credit Facilities to Minority Communities 721 kb Master Direction on Levy of Penal Interest for Delayed Reporting  Wrong Reporting  Non-Reporting of Currency Chest Transactions and Inclusion of Ineligible Amounts in Currency Chest Balances 304 kb Master Direction on Currency Distribution  Exchange Scheme (CDES) for bank branches including currency chests based on performance in rendering customer service to members of public 201 kb Master Circular  Scheme of Penalties for bank branches including Currency Chests based on performance in rendering customer service to the members of public 250 kb Master Circular  Detection and Impounding of Counterfeit Notes 622 kb Master Circular  Facility for Exchange of Notes and Coins 341 kb Mar 31, 2021 Framework for processing of e-mandates for recurring online transactions 289 kb Guidelines on Regulation of Payment Aggregators and Payment Gateways 326 kb Investment by Foreign Portfolio Investors (FPI): Investment limits 273 kb Mar 30, 2021 Bilateral Netting of Qualified Financial Contracts- Amendments to Prudential Guidelines 180 kb Mar 25, 2021 FETERS  Cards: Monthly Reporting 272 kb Annual Closing of Government Accounts  Transactions of Central  State Governments  Special Measures for the Current Financial Year (2020-21) 160 kb Mar 24, 2021 Implementation of Section 51A of UAPA, 1967: Updates to UNSCs 1267 1989 ISIL (Da'esh)  Al-Qaida Sanctions List  Amendment of 8 entries 330 kb Mar 23, 2021 Master Direction - Amalgamation of Urban Cooperative Banks, Directions, 2020 163 kb Amendment to Master Direction (MD) on KYC  Procedure for Implementation of Section 51A of the Unlawful Activities (Prevention) Act, 1967 323 kb Large Exposures Framework  Deferment of applicability of limits on non-centrally cleared derivatives exposures 281 kb Mar 18, 2021 Reporting and Accounting of Central Government transactions of March 2021 264 kb Mar 15, 2021 Extension of Cheque\"},\n",
              " {'id': 'rbi_notification_2023_1991_2021-11',\n",
              "  'text': \"2021 Reporting and Accounting of Central Government transactions of March 2021 264 kb Mar 15, 2021 Extension of Cheque Truncation System (CTS) across all bank branches in the country 307 kb Mar 12, 2021 Data Format for Furnishing of Credit Information to Credit Information Companies and other Regulatory Measures 263 kb Feb 26, 2021 Investment by Foreign Portfolio Investors (FPI) in Defaulted Bonds - Relaxations 140 kb Feb 24, 2021 Large Exposures Framework  Exemptions 277 kb Implementation of Section 51A of UAPA, 1967: Updates to UNSCs 1267 1989 ISIL (Da'esh)  Al-Qaida Sanctions List  Amendment of 92 entries 333 kb Feb 23, 2021 Inclusion of Fino Payments Bank Limited in the Second Schedule of the Reserve Bank of India Act, 1934 190 kb Feb 22, 2021 Implementation of Section 51A of UAPA, 1967: Updates to UNSCs 1267 1989 ISIL (Da'esh)  Al-Qaida Sanctions List  Deletion of two entries 328 kb Feb 18, 2021 Master Direction on Digital Payment Security Controls 261 kb Feb 17, 2021 Capital and provisioning requirements for exposures to entities with Unhedged Foreign Currency Exposure 246 kb Master Direction  Non-Banking Financial Company  Housing Finance Company (Reserve Bank) Directions, 2021 ( Updated as on August 29, 2023 ) 1741 kb Feb 16, 2021 Remittances to International Financial Services Centres (IFSCs) in India under the Liberalised Remittance Scheme (LRS) 144 kb Feb 15, 2021 Margin for Derivative Contracts 316 kb Feb 12, 2021 Investment in NBFCs from FATF non-compliant jurisdictions 371 kb Feb 11, 2021 Exim Bank's Government of India supported Line of Credit (LoC) of  USD 400 million to the Government of the Republic of Maldives 124 kb Feb 05, 2021 Basel III Framework on Liquidity Standards  Net Stable Funding Ratio (NSFR) 226 kb SLR holdings in HTM category 254 kb Basel III Capital Regulations- Review of transitional arrangements 186 kb Credit to MSME Entrepreneurs 311\"},\n",
              " {'id': 'rbi_notification_2023_1991_2021-12',\n",
              "  'text': 'holdings in HTM category 254 kb Basel III Capital Regulations- Review of transitional arrangements 186 kb Credit to MSME Entrepreneurs 311 kb Section 24 of the Banking Regulation Act, 1949  Maintenance of Statutory Liquidity Ratio (SLR)  Marginal Standing Facility (MSF) - Extension of Relaxation 323 kb Maintenance of Cash Reserve Ratio (CRR) 333 kb Loans and advances to directors, their relatives, and firms  concerns in which they are interested 319 kb Feb 03, 2021 Risk-Based Internal Audit (RBIA) 754 kb Jan 27, 2021 Strengthening of Grievance Redress Mechanism in Banks 361 kb Prudential Guidelines on Capital Adequacy and Market Discipline - New Capital Adequacy Framework (NCAF) - Eligible Credit Rating Agencies  CRISIL Ratings Limited 281 kb Jan 25, 2021 Implementation of United Nations Security Council Resolution (UNSCR) - 1518 (2003) Sanctions Committee List  Updated UNSCR 1518 list and Removal of Two Individuals from the Sanctions List 307 kb Jan 21, 2021 Withdrawal of circulars - on Recovery of excess pension made to pensioners 145 kb Jan 08, 2021 Foreign Exchange Management (Export of Goods and Services) (Amendment) Regulations, 2021 110 kb Jan 07, 2021 Risk Based Internal Audit (RBIA) Framework  Strengthening Governance arrangements 354 kb Jan 05, 2021 Introduction of Legal Entity Identifier for Large Value Transactions in Centralised Payment Systems 359 kb Operationalisation of Payments Infrastructure Development Fund (PIDF) Scheme ( Updated as on June 09, 2022 ) 372 kb'},\n",
              " {'id': 'rbi_notification_2023_1991_2021-13',\n",
              "  'text': \"2023All                                 \\n\\nTop\\n\\nMore Links\\n\\nFinancial Education\\n\\nE-LMS\\n\\nRBI Kehta Hai\\n\\nFAQs\\n\\nIFSCMICR Codes\\n\\nTenders\\n\\nOpportunitiesRBI\\n\\nBank Holidays\\n\\nForms\\n\\nEvents\\n\\nRBI Clarifications\\n\\nRight to Information Act\\n\\nImportant Websites\\n\\nRBI's Core Purpose, Values and Vision\\n\\nCitizens' Charter\\n\\nTimelines for Regulatory Approvals\\n\\nComplaints\\n\\nBanking Glossary\\n\\nContact Us\\n\\nFollow RBI\\n\\nRSS\\n\\nTwitter\\n\\nYouTube\\n\\nDownload Mobile App \\n   \\t Play Store\\n\\tApp Store\\n\\n Reserve Bank of India. All Rights Reserved.\\n\\nSitemap \\n\\nDisclaimer\\n\\nApril 14, 2015 Dear All Welcome to the refurbished site of the Reserve Bank of India. The two most important features of the site are: One, in addition to the default site, the refurbished site also has all the information bifurcated functionwise; two, a much improved search  well, at least we think so but you be the judge. With this makeover, we also take a small step into social media. We will now use Twitter (albeit one way) to send out alerts on the announcements we make and YouTube to place in public domain our press conferences, interviews of our top management, events, such as, town halls and of course, some films aimed at consumer literacy. The site can be accessed through most browsers and devices; it also meets accessibility standards. Please save the url of the refurbished site in your favourites as we will give up the existing site shortly and register or re-register yourselves for receiving RSS feeds for uninterrupted alerts from the Reserve Bank. Do feel free to give us your feedback by clicking on the feedback button on the right hand corner of the refurbished site. Thank you for your continued support. Department of Communication Reserve Bank of India Next\"}]"
            ]
          },
          "execution_count": 40,
          "metadata": {},
          "output_type": "execute_result"
        }
      ],
      "source": [
        "data = [\n",
        "    {\n",
        "        'id' : f'{file_name}-{i}',\n",
        "        'text' : chunk\n",
        "    } for i, chunk in enumerate(chunks)\n",
        "]\n",
        "data"
      ]
    },
    {
      "cell_type": "code",
      "execution_count": null,
      "id": "dfd95df4-053e-4074-b9d4-b6819fbcdc3e",
      "metadata": {
        "id": "dfd95df4-053e-4074-b9d4-b6819fbcdc3e",
        "outputId": "7878b6bc-d4ec-47d4-e4b0-48a393decde5",
        "colab": {
          "referenced_widgets": [
            "db5a6c163f3a4f3a85ba8942fee99960"
          ]
        }
      },
      "outputs": [
        {
          "data": {
            "application/vnd.jupyter.widget-view+json": {
              "model_id": "db5a6c163f3a4f3a85ba8942fee99960",
              "version_major": 2,
              "version_minor": 0
            },
            "text/plain": [
              "  0%|          | 0/33760 [00:00<?, ?it/s]"
            ]
          },
          "metadata": {},
          "output_type": "display_data"
        },
        {
          "data": {
            "text/plain": [
              "269912"
            ]
          },
          "execution_count": 41,
          "metadata": {},
          "output_type": "execute_result"
        }
      ],
      "source": [
        "documents = []\n",
        "\n",
        "for key, text in tqdm(all_files.items()) :\n",
        "    chunks = text_splitter.split_text(text)\n",
        "    for i, chunk in enumerate(chunks) :\n",
        "        documents.append({\n",
        "            'id' : f'{key}-{i}',\n",
        "            'text' : chunk\n",
        "        })\n",
        "\n",
        "len(documents)"
      ]
    },
    {
      "cell_type": "code",
      "execution_count": null,
      "id": "0afb229b-0abc-4ef1-9000-f4602fca1d7e",
      "metadata": {
        "id": "0afb229b-0abc-4ef1-9000-f4602fca1d7e"
      },
      "outputs": [],
      "source": [
        "with open(tokenized_text_from_all_dirs, 'wb') as f:\n",
        "    pickle.dump(documents, f)"
      ]
    },
    {
      "cell_type": "code",
      "execution_count": null,
      "id": "49d8a3f9-e58f-45b1-884d-6743fc0761f1",
      "metadata": {
        "id": "49d8a3f9-e58f-45b1-884d-6743fc0761f1"
      },
      "outputs": [],
      "source": []
    }
  ],
  "metadata": {
    "kernelspec": {
      "display_name": "Python 3 (ipykernel)",
      "language": "python",
      "name": "python3"
    },
    "language_info": {
      "codemirror_mode": {
        "name": "ipython",
        "version": 3
      },
      "file_extension": ".py",
      "mimetype": "text/x-python",
      "name": "python",
      "nbconvert_exporter": "python",
      "pygments_lexer": "ipython3",
      "version": "3.11.7"
    },
    "colab": {
      "provenance": [],
      "include_colab_link": true
    }
  },
  "nbformat": 4,
  "nbformat_minor": 5
}