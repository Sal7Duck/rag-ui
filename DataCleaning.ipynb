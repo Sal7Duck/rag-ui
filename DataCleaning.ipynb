{
  "cells": [
    {
      "cell_type": "markdown",
      "metadata": {
        "id": "view-in-github",
        "colab_type": "text"
      },
      "source": [
        "<a href=\"https://colab.research.google.com/github/Sal7Duck/rag-ui/blob/code-cleaning/DataCleaning.ipynb\" target=\"_parent\"><img src=\"https://colab.research.google.com/assets/colab-badge.svg\" alt=\"Open In Colab\"/></a>"
      ]
    },
    {
      "cell_type": "code",
      "execution_count": null,
      "id": "c6e3740f-31cf-451a-ab21-d7d0820f703f",
      "metadata": {
        "id": "c6e3740f-31cf-451a-ab21-d7d0820f703f"
      },
      "outputs": [],
      "source": [
        "home_dir = \"/Users/saloni/Desktop/rag-ui/data/\"\n",
        "output_filename = \"final_cleaned_output_text.pkl\"\n",
        "all_directories = [\"notification_1991_2023\", \"notifications_not_in_toc\", \"rbi_notification_2023_1991\"]\n",
        "extracted_text_from_all_dirs = '/Users/saloni/Desktop/rag-ui/utilities/final_cleaned_output_text.pkl'\n",
        "dir_data_path = home_dir + \"{}/\"\n",
        "# trial_file_path = \"/Users/saloni/Desktop/rag-ui/data/rbi_notification_2023_1991/2015.html\""
      ]
    },
    {
      "cell_type": "code",
      "execution_count": null,
      "id": "b9e21e03-8de7-4fd3-b28d-14c8dc250deb",
      "metadata": {
        "id": "b9e21e03-8de7-4fd3-b28d-14c8dc250deb"
      },
      "outputs": [],
      "source": [
        "from tqdm import tqdm\n",
        "import glob\n",
        "import time\n",
        "import numpy as np\n",
        "import os.path\n",
        "import pickle\n",
        "import docx\n",
        "import PyPDF2\n",
        "from langchain.document_loaders import ReadTheDocsLoader\n",
        "from langchain_community.document_loaders import UnstructuredHTMLLoader\n",
        "from langchain_community.document_loaders import BSHTMLLoader\n",
        "from langchain_community.document_loaders import PyPDFLoader\n",
        "import warnings\n",
        "\n",
        "# Suppress all warnings\n",
        "warnings.filterwarnings(\"ignore\")\n"
      ]
    },
    {
      "cell_type": "code",
      "execution_count": null,
      "id": "1f39e28d-2100-4626-ba9f-27e61fee60c6",
      "metadata": {
        "id": "1f39e28d-2100-4626-ba9f-27e61fee60c6",
        "outputId": "7472363c-85d8-48de-dd5a-9adeb37ab2ed"
      },
      "outputs": [
        {
          "name": "stderr",
          "output_type": "stream",
          "text": [
            "  0%|                                                                                                   | 0/3 [00:00<?, ?it/s]"
          ]
        },
        {
          "name": "stdout",
          "output_type": "stream",
          "text": [
            "\n",
            " ==== Current Directory : notification_1991_2023 ==== \n",
            "\n",
            " ==== Docs files done in 0.0 s\n",
            "\n",
            " ==== PDF files done in 0.0 s\n"
          ]
        },
        {
          "name": "stderr",
          "output_type": "stream",
          "text": [
            " 33%|██████████████████████████████                                                            | 1/3 [12:05<24:11, 725.85s/it]"
          ]
        },
        {
          "name": "stdout",
          "output_type": "stream",
          "text": [
            "==== HTML files done in 725.8 s\n",
            "\n",
            " ==== Current Directory : notifications_not_in_toc ==== \n",
            "\n",
            " ==== Docs files done in 0.1 s\n"
          ]
        },
        {
          "name": "stderr",
          "output_type": "stream",
          "text": [
            "incorrect startxref pointer(1)\n",
            "incorrect startxref pointer(1)\n",
            "FloatObject (b'0.-27') invalid; use 0.0 instead\n"
          ]
        },
        {
          "name": "stdout",
          "output_type": "stream",
          "text": [
            "An error occurred: Invalid Elementary Object starting with b')' @2469: b'anagee my haove rsao) Tj\\r0 -13.5  TD 0.2072  Tc 234633  Tw participvang witha(no'\n"
          ]
        },
        {
          "name": "stderr",
          "output_type": "stream",
          "text": [
            "incorrect startxref pointer(1)\n",
            "incorrect startxref pointer(1)\n",
            "incorrect startxref pointer(1)\n",
            "incorrect startxref pointer(1)\n",
            "incorrect startxref pointer(1)\n",
            "Multiple definitions in dictionary at byte 0x25e38 for key /Info\n",
            "Multiple definitions in dictionary at byte 0x25e44 for key /Info\n",
            "Multiple definitions in dictionary at byte 0x25e50 for key /Info\n",
            "incorrect startxref pointer(1)\n",
            "Multiple definitions in dictionary at byte 0x1af5ea for key /Info\n",
            "Multiple definitions in dictionary at byte 0x1af5f7 for key /Info\n",
            "Multiple definitions in dictionary at byte 0x1af604 for key /Info\n",
            "incorrect startxref pointer(1)\n"
          ]
        },
        {
          "name": "stdout",
          "output_type": "stream",
          "text": [
            "An error occurred: Cannot read an empty file\n"
          ]
        },
        {
          "name": "stderr",
          "output_type": "stream",
          "text": [
            "incorrect startxref pointer(1)\n",
            "incorrect startxref pointer(1)\n",
            "incorrect startxref pointer(1)\n",
            "incorrect startxref pointer(1)\n",
            "incorrect startxref pointer(1)\n",
            "incorrect startxref pointer(1)\n",
            "incorrect startxref pointer(1)\n",
            "incorrect startxref pointer(1)\n",
            "incorrect startxref pointer(1)\n",
            "incorrect startxref pointer(1)\n",
            "incorrect startxref pointer(1)\n",
            "incorrect startxref pointer(1)\n",
            "incorrect startxref pointer(1)\n",
            "incorrect startxref pointer(1)\n",
            "incorrect startxref pointer(1)\n",
            "FloatObject (b'-0.153.25') invalid; use 0.0 instead\n"
          ]
        },
        {
          "name": "stdout",
          "output_type": "stream",
          "text": [
            "An error occurred: Invalid Elementary Object starting with b'>' @3689: b' 651 o83.vsnl.net.in>) Tj\\r13 -0.009)TMTj\\rT\\rq Tj\\rEING OPERATIONS AND DEVELOPMTj\\r2'\n"
          ]
        },
        {
          "name": "stderr",
          "output_type": "stream",
          "text": [
            "incorrect startxref pointer(1)\n",
            "incorrect startxref pointer(1)\n",
            "incorrect startxref pointer(1)\n",
            "incorrect startxref pointer(1)\n",
            "incorrect startxref pointer(1)\n",
            "Multiple definitions in dictionary at byte 0x25e38 for key /Info\n",
            "Multiple definitions in dictionary at byte 0x25e44 for key /Info\n",
            "Multiple definitions in dictionary at byte 0x25e50 for key /Info\n",
            "Multiple definitions in dictionary at byte 0x1af5ea for key /Info\n",
            "Multiple definitions in dictionary at byte 0x1af5f7 for key /Info\n",
            "Multiple definitions in dictionary at byte 0x1af604 for key /Info\n"
          ]
        },
        {
          "name": "stdout",
          "output_type": "stream",
          "text": [
            "\n",
            " ==== PDF files done in 718.2 s\n"
          ]
        },
        {
          "name": "stderr",
          "output_type": "stream",
          "text": [
            " 67%|███████████████████████████████████████████████████████████▎                             | 2/3 [35:08<18:32, 1112.24s/it]"
          ]
        },
        {
          "name": "stdout",
          "output_type": "stream",
          "text": [
            "==== HTML files done in 664.4 s\n",
            "\n",
            " ==== Current Directory : rbi_notification_2023_1991 ==== \n",
            "\n",
            " ==== Docs files done in 0.0 s\n",
            "\n",
            " ==== PDF files done in 0.0 s\n"
          ]
        },
        {
          "name": "stderr",
          "output_type": "stream",
          "text": [
            "100%|██████████████████████████████████████████████████████████████████████████████████████████| 3/3 [35:14<00:00, 704.70s/it]"
          ]
        },
        {
          "name": "stdout",
          "output_type": "stream",
          "text": [
            "==== HTML files done in 5.5 s\n"
          ]
        },
        {
          "name": "stderr",
          "output_type": "stream",
          "text": [
            "\n"
          ]
        },
        {
          "name": "stdout",
          "output_type": "stream",
          "text": [
            "PDFs that did not run :  3\n"
          ]
        }
      ],
      "source": [
        "import re\n",
        "counter = 0\n",
        "\n",
        "def replace_more_than_2_spaces(input_string):\n",
        "    # Use regular expression to replace more than 2 spaces with a newline character\n",
        "    cleaned_string = re.sub(r' {2,}', '\\n', input_string)\n",
        "    return cleaned_string\n",
        "\n",
        "def remove_repeated_tabs(input_string):\n",
        "    # Use regular expression to find and replace repeated tabs with a single tab\n",
        "    cleaned_string = re.sub(r'\\t+', '\\t', input_string)\n",
        "    return cleaned_string\n",
        "\n",
        "def remove_long_words_without_special_characters(input_string):\n",
        "    # Define a regular expression pattern to match words longer than 100 characters\n",
        "    # that don't contain any special characters\n",
        "    pattern = r'\\b[a-zA-Z0-9]{61,}\\b'\n",
        "    cleaned_text = re.sub(pattern, '', input_string)\n",
        "    return cleaned_text\n",
        "\n",
        "def remove_non_alphanumeric_and_special(input_string):\n",
        "    # pattern to match alphanumeric and special characters\n",
        "    pattern = r'[^a-zA-Z0-9\\s\\.,!?;:()\\-\\'\"]'\n",
        "    cleaned_string = re.sub(pattern, '', input_string)\n",
        "    return cleaned_string\n",
        "\n",
        "def extract_text_from_html(html_file_path) :\n",
        "    loader = UnstructuredHTMLLoader(html_file_path)\n",
        "    data = loader.load()\n",
        "    text = data[0].page_content\n",
        "    return text\n",
        "\n",
        "def extract_text_from_pdf(pdf_path):\n",
        "    global counter\n",
        "    text = \"\"\n",
        "    try:\n",
        "        with open(pdf_path, 'rb') as file:\n",
        "            reader = PyPDF2.PdfReader(file, strict=False)\n",
        "            num_pages = len(reader.pages)\n",
        "            for page_num in range(num_pages):\n",
        "                page = reader.pages[page_num]\n",
        "                text += page.extract_text()\n",
        "    except Exception as e:\n",
        "        counter += 1\n",
        "        print(f\"An error occurred: {e}\")\n",
        "        text += \"\"\n",
        "    return text\n",
        "\n",
        "def extract_text_from_docx(docx_file_path) :\n",
        "    doc = docx.Document(docx_file_path)\n",
        "    text = \"\"\n",
        "    for para in doc.paragraphs:\n",
        "        text += para.text + \"\\n\"\n",
        "    return text\n",
        "\n",
        "extracted_text_all_dirs = {}\n",
        "\n",
        "#for all html files in all three directories, extract text and store in above object\n",
        "for i in tqdm(range(len(all_directories))):\n",
        "    directory_name = all_directories[i]\n",
        "    dir_data_path_current = dir_data_path.format(directory_name)\n",
        "\n",
        "    start = time.time()\n",
        "    print(f\"\\n ==== Current Directory : {directory_name} ==== \")\n",
        "    # iterate over all nested pkl files for docx files\n",
        "    for i, docx_file_path in enumerate(glob.glob(dir_data_path_current + \"*.docx\")):\n",
        "        text = extract_text_from_docx(docx_file_path)\n",
        "        text = remove_non_alphanumeric_and_special(text)\n",
        "        text = remove_long_words_without_special_characters(text)\n",
        "        text = remove_repeated_tabs(text)\n",
        "        file_name = docx_file_path.split(\"/\")[-1].split(\".\")[0]\n",
        "        extracted_text_all_dirs[directory_name + \"_\" + file_name] = text\n",
        "    end = time.time()\n",
        "    print(f\"\\n ==== Docs files done in {np.round(end - start,1)} s\")\n",
        "\n",
        "    start = time.time()\n",
        "    # iterate over all nested pkl files for pdf files\n",
        "    for i, pdf_file_path in enumerate(glob.glob(dir_data_path_current + \"*.pdf\")):\n",
        "        text = extract_text_from_pdf(pdf_file_path)\n",
        "        text = remove_non_alphanumeric_and_special(text)\n",
        "        text = remove_long_words_without_special_characters(text)\n",
        "        text = remove_repeated_tabs(text)\n",
        "        file_name = pdf_file_path.split(\"/\")[-1].split(\".\")[0]\n",
        "        extracted_text_all_dirs[directory_name + \"_\" + file_name] = text\n",
        "\n",
        "    end = time.time()\n",
        "    print(f\"\\n ==== PDF files done in {np.round(end - start,1)} s\")\n",
        "\n",
        "    start = time.time()\n",
        "    #iterate over all nested pkl files for html files\n",
        "    for i, html_file_path in enumerate(glob.glob(dir_data_path_current + \"*.html\")):\n",
        "        text = extract_text_from_html(html_file_path)\n",
        "        text = remove_non_alphanumeric_and_special(text)\n",
        "        text = remove_long_words_without_special_characters(text)\n",
        "        text = remove_repeated_tabs(text)\n",
        "        file_name = html_file_path.split(\"/\")[-1].split(\".\")[0]\n",
        "        extracted_text_all_dirs[directory_name + \"_\" + file_name] = text\n",
        "\n",
        "    end = time.time()\n",
        "    print(f\"==== HTML files done in {np.round(end - start,1)} s\")\n",
        "\n",
        "if os.path.exists(extracted_text_from_all_dirs):\n",
        "    os.remove(extracted_text_from_all_dirs)\n",
        "\n",
        "with open(extracted_text_from_all_dirs, 'wb') as f:\n",
        "    pickle.dump(extracted_text_all_dirs, f)\n",
        "\n",
        "print(\"PDFs that did not run : \", counter)"
      ]
    },
    {
      "cell_type": "code",
      "execution_count": null,
      "id": "2c870a25-84c9-40de-a20f-856b5f53aa7b",
      "metadata": {
        "id": "2c870a25-84c9-40de-a20f-856b5f53aa7b",
        "outputId": "4eec907c-ccc0-4074-d635-b01866a8409b"
      },
      "outputs": [
        {
          "data": {
            "text/plain": [
              "\"Skip to main content\\n\\n\\n\\nHome\\n\\nAbout Us\\n\\nNotifications\\n\\nPress Releases\\n\\nSpeeches  Media Interactions\\n                \\n                  Speeches\\n                  Media Interactions\\n                  Memorial Lectures\\n\\nPublications \\n                \\n                  Annual\\n                  Half-Yearly\\n                  Quarterly\\n\\t          Bi-monthly\\n                  Monthly\\n                  Weekly\\n                  Occasional\\n                   Reports\\n\\t            Working Papers\\n\\nLegal Framework \\n                \\n                  Act \\n                   Rules \\n                    Regulations  \\n                    Schemes\\n\\nResearch \\n\\t        \\n                External Research Schemes\\n                RBI Occasional Papers\\n                Working Papers\\n                RBI Bulletin\\n\\t            History\\n                DRG Studies\\n                KLEMS\\n\\t        State Statistics and Finances\\n\\nStatistics \\n                \\n                  Data Releases\\n                  Database on Indian Economy\\n                  Public Debt Statistics\\n\\nRegulatory Reporting\\n\\t \\n\\tList of Returns\\n\\t\\n                    Data Definition\\n                        \\n                    \\n\\n\\tValidation rules Taxonomy\\n\\tList of RBI Reporting Portals\\n\\tFAQs of RBI Reporting Portals\\n\\nHome\\n\\nNotifications\\n\\nNotifications\\n\\nMaster Directions\\n\\nMaster Circulars\\n\\nDraft Notifications Guidelines\\n\\nIndex to RBI Circulars\\n\\nNotifications\\n\\nDec 30, 2021 Periodic Updation of KYC  Restrictions on Account Operations for Non-compliance 299 kb Dec 24, 2021 Amendment to General Notification for sale of Government of India Treasury BillsCash Management Bills by Auction 152 kb Dec 23, 2021 Restriction on storage of actual card data i.e. Card-on-File (CoF) 359 kb Exim Bank Government of India supported Line of Credit (LoC) of USD 40 million to the Government of the Togolese Republic 198 kb Dec 15, 2021 Government Agency Business Arrangement  Appointment of Scheduled Private Sector Banks as Agency Banks of Reserve Bank of India (RBI) 251 kb Dec 14, 2021 Prompt Corrective Action (PCA) Framework for Non-Banking Financial Companies (NBFCs) 369 kb Dec 10, 2021 Section 24 of the Banking Regulation Act, 1949  Maintenance of Statutory Liquidity Ratio (SLR)  Marginal Standing Facility (MSF) - return to the normal dispensation 253 kb Introduction of Legal Entity Identifier for Cross-border Transactions 205 kb Dec 08, 2021 General permission for infusion of capital in overseas branches and subsidiaries and retention repatriation transfer of profits in these centres by banks incorporated in India 324 kb External Commercial Borrowings (ECB) and Trade Credits (TC) Policy  Changes due to LIBOR transition 208 kb Nov 26, 2021 Implementation of Section 51A of UAPA, 1967: Updates to UNSCs 1267 1989 ISIL (Da'esh)  Al-Qaida Sanctions List: Addition of one entry 374 kb Nov 22, 2021 Inclusion inexclusion from the Second Schedule to the Reserve Bank of India Act, 1934 - Regional Rural Banks (RRBs) 285 kb Nov 16, 2021 Regulations Review Authority (RRA 2.0)  Interim Recommendations  Withdrawal of Redundant Circulars 238 kb Withdrawal of Obsolete Regulatory Circulars Instructions - Interim Recommendations of the Regulations Review Authority 2.0 198 kb Regulations Review Authority (RRA 2.0)  Interim Recommendations  Withdrawal of Circular 250 kb Regulations Review Authority (RRA 2.0)  Interim Recommendations  Withdrawal of Circulars 180 kb Regulations Review Authority (RRA) 2.0  Interim Recommendations  Withdrawal of Redundant Circulars 198 kb Withdrawal of Obsolete Regulatory Circulars  Instructions  Interim Recommendations of the Regulations Review Authority 2.0 454 kb Nov 15, 2021 Appointment of Internal Ombudsman by Non-Banking Financial Companies 214 kb Nov 12, 2021 Prudential norms on Income Recognition, Asset Classification and Provisioning pertaining to Advances - Clarifications 274 kb Auction of Government Securities: Non-Competitive Bidding Facility to retail investors 391 kb Reserve Bank - Integrated Ombudsman Scheme, 2021 110 kb Nov 11, 2021 Foreign Currency (Non-resident) Accounts (Banks) Scheme FCNR(B) - Master Direction on Interest Rate on Deposits 214 kb Exim Bank's Government of India supported Line of Credit (LoC) of  USD 10.40 million to the Government of the Kingdom of Eswatini (Swaziland) 254 kb Nov 09, 2021 Master Circular - Guarantees and Co-acceptances 490 kb Nov 08, 2021 Investment by Foreign Portfolio Investors (FPIs) in Debt  Review 302 kb Nov 02, 2021 Master Circular- Guarantees, Co-Acceptances  Letters of Credit - UCBs 283 kb Prompt Corrective Action (PCA) Framework for Scheduled Commercial Banks 321 kb Nov 01, 2021 Master Circular- Income Recognition, Asset Classification, Provisioning and Other Related Matters - UCBs 533 kb Oct 29, 2021 Opening of Current Accounts by Banks - Need for Discipline 231 kb Oct 28, 2021 Gold Monetization Scheme (GMS), 2015 338 kb Oct 26, 2021 Master Direction  Prudential Norms on Capital Adequacy for Local Area Banks (Directions), 2021 (Updated as on August 11, 2022) 1506 kb Oct 22, 2021 Sovereign Gold Bond Scheme of the Government of India (GoI) - Procedural Guidelines - Consolidated (Updated as on October 04, 2022) 296 kb Sovereign Gold Bond Scheme (SGB) 2021-22 - Series VIIVIIIIXX 236 kb Scale Based Regulation (SBR): A Revised Regulatory Framework for NBFCs 539 kb Oct 14, 2021 Data Format for Furnishing of Credit Information to Credit Information Companies 252 kb Oct 08, 2021 Priority Sector Lending- Banks lending to NBFCs for on-lending  Extension of facility 294 kb Oct 07, 2021 Inclusion of Paytm Payments Bank Limited in the Second Schedule of the Reserve Bank of India Act, 1934 297 kb Oct 05, 2021 Value Free Transfer (VFT) of Government Securities  Guidelines 95 kb Revised Subsidiary General Ledger (SGL) Account Guidelines and Constituents' Subsidiary General Ledger (CSGL) Account Guidelines 104 kb Oct 04, 2021 Basel III Capital Regulations - Perpetual Debt Instruments (PDI) in Additional Tier 1 Capital  Eligible Limit for Instruments Denominated in Foreign CurrencyRupee Denominated Bonds Overseas 371 kb Enhancement in family pension of employees of banks -  Treatment of additional liability 284 kb Oct 01, 2021 Master Circular - Prudential norms on Income Recognition, Asset Classification and Provisioning pertaining to Advances 1062 kb Sep 30, 2021 Exim Bank's Government of India supported Line of Credit (LoC) of  USD 100 million to the Government of Democratic Socialist Republic of Sri Lanka 99 kb Exim Bank's Government of India supported Line of Credit (LoC) of  USD 15 million to the Government of the Republic of Sierra Leone 99 kb Sep 28, 2021 Use of any Alternative reference rate in place of LIBOR for interest payable in respect of export  import transactions 126 kb Sep 24, 2021 Master Direction  Reserve Bank of India (Transfer of Loan Exposures) Directions, 2021 (Updated as on December 05, 2022) 851 kb Master Direction  Reserve Bank of India (Securitisation of Standard Assets) Directions, 2021 (Updated as on December 05, 2022) 740 kb Sep 20, 2021 Master Circular on Investments by Primary (Urban) Co-operative Banks 636 kb Sep 16, 2021 Master Direction  Reserve Bank of India (Market-makers in OTC Derivatives) Directions, 2021 256 kb Sep 13, 2021 Implementation of Section 51A of UAPA, 1967: Updates to UNSCs 1267 1989 ISIL (Da'esh)  Al-Qaida Sanctions List: Deletion of one entry 303 kb Application for Aadhaar e-KYC Authentication Licence 327 kb Sep 09, 2021 Large Exposures Framework  Credit Risk Mitigation (CRM) for offsetting  non-centrally cleared derivative transactions of foreign bank branches in India with their Head Office 292 kb Sep 08, 2021 Foreign Exchange Management (Export of Goods and Services) (Amendment) Regulations, 2021 92 kb Sep 07, 2021 Tokenisation  Card Transactions: Permitting Card-on-File Tokenisation (CoFT) Services 329 kb Aug 30, 2021 Master Direction on Financial Statements - Presentation and Disclosures (Updated as on February 20,  2023) 1934 kb Guidelines on Compensation of Whole Time Directors Chief Executive Officers Material Risk Takers and Control Function staff - Clarification 229 kb Aug 27, 2021 Master Directions on Prepaid Payment Instruments (PPIs) (Updated as on February 10, 2023) 980 kb Enhancements to Indo-Nepal Remittance Facility Scheme 318 kb Review of incentive and other measures to enhance distribution of coins 150 kb Aug 25, 2021 Master Direction - Classification, Valuation and Operation of Investment Portfolio of Commercial Banks (Directions), 2021 (Updated  as on December 8, 2022) 1219 kb Tokenisation  Card Transactions : Extending the Scope of Permitted Devices 280 kb Notification as Financial Institution under Section 2(1)(m)(iv) of Securitisation and Reconstruction of Financial Assets and Enforcement of Security Interest Act, 2002 (SARFAESI Act) 266 kb Aug 24, 2021 Formation of new district in the State of Punjab  Assignment of Lead Bank Responsibility 348 kb Aug 19, 2021 Exim Bank's Government of India supported Line of Credit (LoC) of USD 20.51 million to the Government of the Republic of Guinea 100 kb Exim Bank's Government of India supported Line of Credit (LoC) of  USD 170 million to the Government of the Republic of Guinea 99 kb Exim Bank's Government of India supported Line of Credit (LoC) of USD 20.22 million to the Government of the Republic of Guinea 100 kb Aug 18, 2021 Safe Deposit LockerSafe Custody Article Facility provided by the banks - Revised Instructions 300 kb Aug 12, 2021 Exim Bank's Government of India supported Line of Credit (LoC) of USD 100 million to the Government of the Republic of Mauritius 153 kb Aug 10, 2021 Monitoring of Availability of Cash in ATMs 264 kb Aug 09, 2021 Enhancement of collateral free loans to Self Help Groups (SHGs) under DAY-NRLM from 10 lakh to 20 Lakh 197 kb Section 24 of the Banking Regulation Act, 1949  Maintenance of Statutory Liquidity Ratio (SLR)  Marginal Standing Facility (MSF) - Extension of Relaxation 309 kb Aug 06, 2021 Prudential Norms for Off-Balance Sheet Exposures of Banks  Restructuring of derivative contracts 284 kb Resolution Framework for COVID-19-related Stress  Financial Parameters  Revised timelines for compliance 337 kb Export Credit in Foreign Currency  Benchmark Rate 245 kb Aug 05, 2021 Exim Bank's Government of India supported Line of Credit (LoC) of USD 30.00 million to the Government of the Republic of Sierra Leone 104 kb Aug 04, 2021 Guidelines for Implementation of the circular on Opening of Current Accounts by Banks 335 kb Aug 03, 2021 Framework for Outsourcing of Payment and Settlement-related Activities by Payment System Operators 379 kb Aug 02, 2021 Maintenance of State Government Accounts  Recovery of Interest on Excess put through Double claim (State Government Transactions) 319 kb Jul 29, 2021 Rating of Deposits of HFCs  Approved Credit Rating Agencies and Minimum Investment Grade Credit Rating 247 kb Jul 28, 2021 Access for Non-banks to Centralised Payment Systems 551 kb Jul 23, 2021 Loans and Advances  Regulatory Restrictions 304 kb Jul 20, 2021 Master Direction - Reserve Bank of India Cash Reserve Ratio (CRR) and Statutory Liquidity Ratio (SLR) Directions - 2021 ( Updated as on September 25, 2023 ) 1638 kb Jul 14, 2021 Cassette - Swaps in ATMs 306 kb Jul 09, 2021 Mandatory Leave for Employees Posted in Sensitive Positions or Areas of Operation 337 kb Jul 08, 2021 Roadmap for LIBOR Transition 280 kb Inclusion of Shivalik Small Finance Bank Limited in the Second Schedule of the Reserve Bank of India Act, 1934 283 kb Jul 07, 2021 New Definition of Micro, Small and Medium Enterprises - Addition of Retail and Wholesale Trade 335 kb Jul 02, 2021 Review of Instructions on Interest on overdue domestic deposits 108 kb Jul 01, 2021 Interest Equalization Scheme on Pre and Post Shipment Rupee Export Credit - Extension 204 kb Jun 28, 2021 Guidelines for Managing Risk in Outsourcing of Financial Services by Co-operative Banks 418 kb Jun 25, 2021 New Definition of Micro, Small and Medium Enterprises 361 kb Appointment of Chief Risk Officer in Primary (Urban) Co-operative Banks 246 kb Reserve Bank of India (Call, Notice and Term Money Markets) Directions, 2021 281 kb Appointment of Managing Director (MD)  Whole-Time Director (WTD) in Primary (Urban) Co-operative Banks 567 kb Jun 24, 2021 Declaration of dividends by NBFCs 403 kb Jun 23, 2021 Gold (Metal) Loans  Repayment 195 kb Jun 18, 2021 Implementation of Section 51A of UAPA, 1967: Updates to UNSCs 1267 1989 ISIL (Da'esh)  Al-Qaida Sanctions List: Amendment of one entry 323 kb Jun 17, 2021 Liberalised Remittance Scheme for Resident Individuals  Reporting 96 kb Jun 14, 2021 Investment in Entities from FATF Non-compliant Jurisdictions 251 kb Bharat Bill Payment System  Addition of Biller Category 267 kb Jun 11, 2021 Risk Based Internal Audit (RBIA) 328 kb Jun 10, 2021 Usage of Automated Teller Machines  Cash Recycler Machines  Review of Interchange Fee and Customer Charges 319 kb Jun 08, 2021 Preservation of CCTV recordings 227 kb Jun 07, 2021 Transactions in Government securities by Foreign Portfolio Investors: Reporting 294 kb Jun 04, 2021 Master Direction  Reserve Bank of India (Certificate of Deposit) Directions, 2021 268 kb Submission of returns under Section 31 of the Banking Regulation Act, 1949 (AACS)  Extension of time 191 kb Payment of margins for transactions in Government Securities by Foreign Portfolio Investors 242 kb Resolution Framework - 2.0: Resolution of Covid-19 related stress of Micro, Small and Medium Enterprises (MSMEs)  Revision in the threshold for aggregate exposure 127 kb Resolution Framework - 2.0: Resolution of Covid-19 related stress of Individuals and Small Businesses  Revision in the threshold for aggregate exposure 145 kb May 31, 2021 Customer Due Diligence for transactions in Virtual Currencies (VC) 191 kb Investment by Foreign Portfolio Investors (FPI) in Government Securities: Medium Term Framework (MTF) 281 kb May 27, 2021 Formation of new district in the State of Karnataka - Assignment of Lead Bank Responsibility 329 kb May 24, 2021 Amalgamation of District Central Co-operative Banks (DCCBs) with the State Co-operative Bank (StCB) - Guidelines 146 kb May 21, 2021 Relaxation in timeline for compliance with various payment system requirements 300 kb May 19, 2021 Prepaid Payment Instruments (PPIs)  (i) Mandating Interoperability; (ii) Increasing the Limit to 2 lakh for Full-KYC PPIs; and (iii) Permitting Cash Withdrawal from Full-KYC PPIs of Non-Bank PPI Issuers 303 kb May 14, 2021 Sovereign Gold Bond Scheme (SGB) 2021-22- Series IIIIIIIVVVI 93 kb May 12, 2021 Sponsor Contribution to an AIF set up in Overseas Jurisdiction, including IFSCs 145 kb May 11, 2021 Banking Regulation Act, 1949  Section 26A Depositor Education and Awareness Fund Scheme, 2014  Interest rates payable on unclaimed interest bearing deposit 135 kb May 10, 2021 Government Agency Business Arrangement  Appointment of Scheduled Private Sector Banks as Agency Banks of Reserve Bank of India (RBI) 266 kb Amendment to the Master Direction (MD) on KYC 534 kb May 06, 2021 Exim Bank's Government of India supported Line of Credit (LoC) of  USD 7.35 million to the Government of the Republic of Nicaragua 208 kb Exclusion of Lakshmi Vilas Bank Ltd from the Second Schedule to the Reserve Bank of India Act, 1934 304 kb May 05, 2021 Resolution Framework 2.0  Resolution of Covid-19 related stress of Micro, Small and Medium Enterprises (MSMEs) 260 kb Resolution Framework  2.0: Resolution of Covid-19 related stress of Individuals and Small Businesses 385 kb Credit to MSME Entrepreneurs 220 kb Periodic Updation of KYC  Restrictions on Account Operations for Non-compliance 333 kb Utilisation of Floating ProvisionsCounter Cyclical Provisioning Buffer 228 kb Priority Sector Lending (PSL) - On-lending by Small Finance Banks (SFBs) to NBFC-MFIs 252 kb Apr 29, 2021 Exim Bank's Government of India supported Line of Credit (LoC) of USD 250 million to the Government of the Republic of Mozambique 204 kb Apr 27, 2021 Guidelines for Appointment of Statutory Central Auditors (SCAs)Statutory Auditors (SAs) of Commercial Banks (excluding RRBs), UCBs and NBFCs (including HFCs) 398 kb Apr 26, 2021 Corporate Governance in Banks - Appointment of Directors and Constitution of Committees of the Board 381 kb Apr 22, 2021 Declaration of dividends by banks 318 kb Apr 20, 2021 Formation of new district in the State of Tamil Nadu  Assignment of Lead Bank Responsibility 357 kb Apr 12, 2021 Interest Equalization Scheme on Pre and Post Shipment Rupee Export Credit- Extension 214 kb Apr 08, 2021 Enhancement of limit of maximum balance per customer at end of the day from 1 lakh to 2 lakh  Payments Banks (PBs) 316 kb Implementation of Section 51A of UAPA, 1967 and Security Council Resolution: Updates to UNSCs 1267 1989 ISIL (Da'esh)  Al-Qaida Sanctions List  Democratic Peoples Republic of Korea (DPRK)Order, 2017 327 kb Apr 07, 2021 Reporting and Accounting of Central Government transactions of March 2021  Change of date of closure 236 kb Asset Classification and Income Recognition following the expiry of Covid-19 regulatory package 206 kb External Commercial Borrowings (ECB) Policy  Relaxation in the period of parking of unutilised ECB proceeds in term deposits 302 kb Priority Sector Lending (PSL) - Lending by banks to NBFCs for On-Lending 251 kb Priority Sector Lending (PSL)  Increase in limits for bank lending against Negotiable Warehouse Receipts (NWRs)  electronic Negotiable Warehouse Receipts (eNWRs) 307 kb Apr 05, 2021 Gold Monetization Scheme (GMS), 2015 302 kb Deendayal Antyodaya Yojana  National Urban Livelihoods Mission (DAY-NULM) 620 kb Master Circular - Credit facilities to Scheduled Castes (SCs)  Scheduled Tribes (STs) 319 kb Apr 01, 2021 Master Circular  Lead Bank Scheme 1087 kb Master Circular on SHG-Bank Linkage Programme 201 kb Master Circular  Deendayal Antyodaya Yojana - National Rural Livelihoods Mission (DAY-NRLM) 701 kb Master Direction - Reserve Bank of India (Call, Notice and Term Money Markets) Directions, 2021 (Updated as on June 08, 2023) 250 kb Amendment to Master Direction (MD) on KYC  KYC norms for Self Help Groups (SHGs) 319 kb Master Circular - Disbursement of Government Pension by Agency Banks (Updated as on May 17, 2021) 273 kb Master Circular on Conduct of Government Business by Agency Banks - Payment of Agency Commission 517 kb Master Circular - Credit Facilities to Minority Communities 721 kb Master Direction on Levy of Penal Interest for Delayed Reporting  Wrong Reporting  Non-Reporting of Currency Chest Transactions and Inclusion of Ineligible Amounts in Currency Chest Balances 304 kb Master Direction on Currency Distribution  Exchange Scheme (CDES) for bank branches including currency chests based on performance in rendering customer service to members of public 201 kb Master Circular  Scheme of Penalties for bank branches including Currency Chests based on performance in rendering customer service to the members of public 250 kb Master Circular  Detection and Impounding of Counterfeit Notes 622 kb Master Circular  Facility for Exchange of Notes and Coins 341 kb Mar 31, 2021 Framework for processing of e-mandates for recurring online transactions 289 kb Guidelines on Regulation of Payment Aggregators and Payment Gateways 326 kb Investment by Foreign Portfolio Investors (FPI): Investment limits 273 kb Mar 30, 2021 Bilateral Netting of Qualified Financial Contracts- Amendments to Prudential Guidelines 180 kb Mar 25, 2021 FETERS  Cards: Monthly Reporting 272 kb Annual Closing of Government Accounts  Transactions of Central  State Governments  Special Measures for the Current Financial Year (2020-21) 160 kb Mar 24, 2021 Implementation of Section 51A of UAPA, 1967: Updates to UNSCs 1267 1989 ISIL (Da'esh)  Al-Qaida Sanctions List  Amendment of 8 entries 330 kb Mar 23, 2021 Master Direction - Amalgamation of Urban Cooperative Banks, Directions, 2020 163 kb Amendment to Master Direction (MD) on KYC  Procedure for Implementation of Section 51A of the Unlawful Activities (Prevention) Act, 1967 323 kb Large Exposures Framework  Deferment of applicability of limits on non-centrally cleared derivatives exposures 281 kb Mar 18, 2021 Reporting and Accounting of Central Government transactions of March 2021 264 kb Mar 15, 2021 Extension of Cheque Truncation System (CTS) across all bank branches in the country 307 kb Mar 12, 2021 Data Format for Furnishing of Credit Information to Credit Information Companies and other Regulatory Measures 263 kb Feb 26, 2021 Investment by Foreign Portfolio Investors (FPI) in Defaulted Bonds - Relaxations 140 kb Feb 24, 2021 Large Exposures Framework  Exemptions 277 kb Implementation of Section 51A of UAPA, 1967: Updates to UNSCs 1267 1989 ISIL (Da'esh)  Al-Qaida Sanctions List  Amendment of 92 entries 333 kb Feb 23, 2021 Inclusion of Fino Payments Bank Limited in the Second Schedule of the Reserve Bank of India Act, 1934 190 kb Feb 22, 2021 Implementation of Section 51A of UAPA, 1967: Updates to UNSCs 1267 1989 ISIL (Da'esh)  Al-Qaida Sanctions List  Deletion of two entries 328 kb Feb 18, 2021 Master Direction on Digital Payment Security Controls 261 kb Feb 17, 2021 Capital and provisioning requirements for exposures to entities with Unhedged Foreign Currency Exposure 246 kb Master Direction  Non-Banking Financial Company  Housing Finance Company (Reserve Bank) Directions, 2021 ( Updated as on August 29, 2023 ) 1741 kb Feb 16, 2021 Remittances to International Financial Services Centres (IFSCs) in India under the Liberalised Remittance Scheme (LRS) 144 kb Feb 15, 2021 Margin for Derivative Contracts 316 kb Feb 12, 2021 Investment in NBFCs from FATF non-compliant jurisdictions 371 kb Feb 11, 2021 Exim Bank's Government of India supported Line of Credit (LoC) of  USD 400 million to the Government of the Republic of Maldives 124 kb Feb 05, 2021 Basel III Framework on Liquidity Standards  Net Stable Funding Ratio (NSFR) 226 kb SLR holdings in HTM category 254 kb Basel III Capital Regulations- Review of transitional arrangements 186 kb Credit to MSME Entrepreneurs 311 kb Section 24 of the Banking Regulation Act, 1949  Maintenance of Statutory Liquidity Ratio (SLR)  Marginal Standing Facility (MSF) - Extension of Relaxation 323 kb Maintenance of Cash Reserve Ratio (CRR) 333 kb Loans and advances to directors, their relatives, and firms  concerns in which they are interested 319 kb Feb 03, 2021 Risk-Based Internal Audit (RBIA) 754 kb Jan 27, 2021 Strengthening of Grievance Redress Mechanism in Banks 361 kb Prudential Guidelines on Capital Adequacy and Market Discipline - New Capital Adequacy Framework (NCAF) - Eligible Credit Rating Agencies  CRISIL Ratings Limited 281 kb Jan 25, 2021 Implementation of United Nations Security Council Resolution (UNSCR) - 1518 (2003) Sanctions Committee List  Updated UNSCR 1518 list and Removal of Two Individuals from the Sanctions List 307 kb Jan 21, 2021 Withdrawal of circulars - on Recovery of excess pension made to pensioners 145 kb Jan 08, 2021 Foreign Exchange Management (Export of Goods and Services) (Amendment) Regulations, 2021 110 kb Jan 07, 2021 Risk Based Internal Audit (RBIA) Framework  Strengthening Governance arrangements 354 kb Jan 05, 2021 Introduction of Legal Entity Identifier for Large Value Transactions in Centralised Payment Systems 359 kb Operationalisation of Payments Infrastructure Development Fund (PIDF) Scheme ( Updated as on June 09, 2022 ) 372 kb\\n\\n2023All                                 \\n\\nTop\\n\\nMore Links\\n\\nFinancial Education\\n\\nE-LMS\\n\\nRBI Kehta Hai\\n\\nFAQs\\n\\nIFSCMICR Codes\\n\\nTenders\\n\\nOpportunitiesRBI\\n\\nBank Holidays\\n\\nForms\\n\\nEvents\\n\\nRBI Clarifications\\n\\nRight to Information Act\\n\\nImportant Websites\\n\\nRBI's Core Purpose, Values and Vision\\n\\nCitizens' Charter\\n\\nTimelines for Regulatory Approvals\\n\\nComplaints\\n\\nBanking Glossary\\n\\nContact Us\\n\\nFollow RBI\\n\\nRSS\\n\\nTwitter\\n\\nYouTube\\n\\nDownload Mobile App \\n   \\t Play Store\\n\\tApp Store\\n\\n Reserve Bank of India. All Rights Reserved.\\n\\nSitemap \\n\\nDisclaimer\\n\\nApril 14, 2015 Dear All Welcome to the refurbished site of the Reserve Bank of India. The two most important features of the site are: One, in addition to the default site, the refurbished site also has all the information bifurcated functionwise; two, a much improved search  well, at least we think so but you be the judge. With this makeover, we also take a small step into social media. We will now use Twitter (albeit one way) to send out alerts on the announcements we make and YouTube to place in public domain our press conferences, interviews of our top management, events, such as, town halls and of course, some films aimed at consumer literacy. The site can be accessed through most browsers and devices; it also meets accessibility standards. Please save the url of the refurbished site in your favourites as we will give up the existing site shortly and register or re-register yourselves for receiving RSS feeds for uninterrupted alerts from the Reserve Bank. Do feel free to give us your feedback by clicking on the feedback button on the right hand corner of the refurbished site. Thank you for your continued support. Department of Communication Reserve Bank of India Next\""
            ]
          },
          "execution_count": 11,
          "metadata": {},
          "output_type": "execute_result"
        }
      ],
      "source": [
        "with open(\"/Users/saloni/Desktop/rag-ui/utilities/final_cleaned_output_text.pkl\", 'rb') as f:\n",
        "    all_cleaned_files = pickle.load(f)\n",
        "text_file = all_cleaned_files['rbi_notification_2023_1991_2021']\n",
        "text_file"
      ]
    },
    {
      "cell_type": "code",
      "execution_count": null,
      "id": "7623a818-37dc-4c9c-9067-3bbe2ec9d78b",
      "metadata": {
        "id": "7623a818-37dc-4c9c-9067-3bbe2ec9d78b",
        "outputId": "3b82cfab-32d6-4535-f97c-53d32ff6d919"
      },
      "outputs": [
        {
          "data": {
            "text/plain": [
              "33760"
            ]
          },
          "execution_count": 6,
          "metadata": {},
          "output_type": "execute_result"
        }
      ],
      "source": [
        "len(all_cleaned_files)"
      ]
    },
    {
      "cell_type": "code",
      "execution_count": null,
      "id": "b5c2e2a1-27ef-483f-b5db-7192f893d2fd",
      "metadata": {
        "id": "b5c2e2a1-27ef-483f-b5db-7192f893d2fd",
        "outputId": "64f3d983-984d-4abf-d441-9481c07c2854"
      },
      "outputs": [
        {
          "data": {
            "text/plain": [
              "\"Skip to main content\\n\\n\\n\\nHome\\n\\nAbout Us\\n\\nNotifications\\n\\nPress Releases\\n\\nSpeeches  Media Interactions\\n                \\n                  Speeches\\n                  Media Interactions\\n                  Memorial Lectures\\n\\nPublications \\n                \\n                  Annual\\n                  Half-Yearly\\n                  Quarterly\\n\\t          Bi-monthly\\n                  Monthly\\n                  Weekly\\n                  Occasional\\n                   Reports\\n\\t            Working Papers\\n\\nLegal Framework \\n                \\n                  Act \\n                   Rules \\n                    Regulations  \\n                    Schemes\\n\\nResearch \\n\\t        \\n                External Research Schemes\\n                RBI Occasional Papers\\n                Working Papers\\n                RBI Bulletin\\n\\t            History\\n                DRG Studies\\n                KLEMS\\n\\t        State Statistics and Finances\\n\\nStatistics \\n                \\n                  Data Releases\\n                  Database on Indian Economy\\n                  Public Debt Statistics\\n\\nRegulatory Reporting\\n\\t \\n\\tList of Returns\\n\\t\\n                    Data Definition\\n                        \\n                    \\n\\n\\tValidation rules Taxonomy\\n\\tList of RBI Reporting Portals\\n\\tFAQs of RBI Reporting Portals\\n\\nHome\\n\\nNotifications\\n\\nNotifications\\n\\n(13 kb) GOI Notification - 5.48 per cent GOVERNMENT OF INDIA MINISTRY OF FINANCE (Department of Economic Affairs) (Budget Division) New Delhi, August 13, 2007 NOTIFICATION Auction for Sale (Re-issue ) of 5.48 per cent Government Stock, 2009 under Market Stabilisation Scheme F.No.4 (1)-WM2007: Government of India hereby notifies sale (reissue) of 5.48 per cent Government Stock, 2009 for an aggregate amount of Rs.4,000 crore (nominal) under the Market Stabilisation Scheme. The sale will be subject to the terms and conditions spelt out in this notification (called Specific Notification) as also the terms and conditions specified in the General Notification F No.4 (9)WM2000,dated 6th May 2002 issued by Government of India as amended time to time. Method of Issue 2. The Government Stock will be sold through Reserve Bank of India, Mumbai Office, Fort, Mumbai- 400 001 in the manner as prescribed in paragraph 5.1 of the General Notification F No.4 (9)WM2000,dated 6th May 2002 by a price based auction using multiple price auction method. Allotment to Non-competitive Bidders 3. Government Stock up to 5  of the notified amount of the sale will be allotted to eligible individuals and institutions as per the enclosed Scheme for Non-competitive Bidding Facility in the Auctions of Government Securities (Annex). Place and date of auction 4. The auction will be conducted by Reserve Bank of India, Mumbai Office, Fort, Mumbai-400 001 on August 16, 2007 . The application form duly filled in with the bids should be submitted to the aforesaid office on August 16, 2007, by 12.30 P.M. Tenure 5. The Stock will be of six year tenure commencing from June 12, 2003. The stock will be repaid at par on June 12, 2009. Date of issue and payment for the stock 6. The result of the auction shall be displayed by the Reserve Bank of India at its Fort, Mumbai office on August 16, 2007. The payment by successful bidders will be on August 17, 2007 , i.e., the date of issue. The payment for the Stock will include accrued interest on the nominal value of the Stock allotted in the auction from the last coupon payment date, i.e., June 12, 2007 to August 16, 2007. Interest 7.\\xa0 Interest at the rate of 5.48 per cent per annum will accrue on the nominal value of the Stock from the date of last coupon payment and will be paid half yearly on December 12 and June 12. By Order of the President of India (L. M. Vas) Joint Secretary to the Government of India\\n\\n2023All                                 \\n\\nTop\\n\\nMore Links\\n\\nFinancial Education\\n\\nE-LMS\\n\\nRBI Kehta Hai\\n\\nFAQs\\n\\nIFSCMICR Codes\\n\\nTenders\\n\\nOpportunitiesRBI\\n\\nBank Holidays\\n\\nForms\\n\\nEvents\\n\\nRBI Clarifications\\n\\nRight to Information Act\\n\\nImportant Websites\\n\\nRBI's Core Purpose, Values and Vision\\n\\nCitizens' Charter\\n\\nTimelines for Regulatory Approvals\\n\\nComplaints\\n\\nBanking Glossary\\n\\nContact Us\\n\\nFollow RBI\\n\\nRSS\\n\\nTwitter\\n\\nYouTube\\n\\nDownload Mobile App \\n   \\t Play Store\\n\\tApp Store\\n\\n Reserve Bank of India. All Rights Reserved.\\n\\nSitemap \\n\\nDisclaimer\\n\\nApril 14, 2015 Dear All Welcome to the refurbished site of the Reserve Bank of India. The two most important features of the site are: One, in addition to the default site, the refurbished site also has all the information bifurcated functionwise; two, a much improved search  well, at least we think so but you be the judge. With this makeover, we also take a small step into social media. We will now use Twitter (albeit one way) to send out alerts on the announcements we make and YouTube to place in public domain our press conferences, interviews of our top management, events, such as, town halls and of course, some films aimed at consumer literacy. The site can be accessed through most browsers and devices; it also meets accessibility standards. Please save the url of the refurbished site in your favourites as we will give up the existing site shortly and register or re-register yourselves for receiving RSS feeds for uninterrupted alerts from the Reserve Bank. Do feel free to give us your feedback by clicking on the feedback button on the right hand corner of the refurbished site. Thank you for your continued support. Department of Communication Reserve Bank of India Next\""
            ]
          },
          "execution_count": 7,
          "metadata": {},
          "output_type": "execute_result"
        }
      ],
      "source": [
        "all_cleaned_files['notification_1991_2023_5a8fc39d_3760']"
      ]
    },
    {
      "cell_type": "code",
      "execution_count": null,
      "id": "25c21bc3-25e5-4509-adf3-b6fd2221717b",
      "metadata": {
        "id": "25c21bc3-25e5-4509-adf3-b6fd2221717b"
      },
      "outputs": [],
      "source": []
    }
  ],
  "metadata": {
    "kernelspec": {
      "display_name": "Python 3 (ipykernel)",
      "language": "python",
      "name": "python3"
    },
    "language_info": {
      "codemirror_mode": {
        "name": "ipython",
        "version": 3
      },
      "file_extension": ".py",
      "mimetype": "text/x-python",
      "name": "python",
      "nbconvert_exporter": "python",
      "pygments_lexer": "ipython3",
      "version": "3.11.7"
    },
    "colab": {
      "provenance": [],
      "include_colab_link": true
    }
  },
  "nbformat": 4,
  "nbformat_minor": 5
}